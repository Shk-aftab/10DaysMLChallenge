{
 "cells": [
  {
   "cell_type": "code",
   "execution_count": 92,
   "metadata": {
    "colab": {},
    "colab_type": "code",
    "id": "Ge3pXvxQBBwn"
   },
   "outputs": [],
   "source": [
    "import pandas as pd\n",
    "import numpy as np\n",
    "import matplotlib.pyplot as plt\n",
    "import tensorflow as tf\n",
    "import os\n",
    "from tensorflow.keras.preprocessing import image\n",
    "from zipfile import ZipFile \n",
    "\n",
    "from tensorflow.keras.models import Sequential\n",
    "from tensorflow.keras.layers import Conv2D, MaxPooling2D, Flatten, Dense, Dropout, Activation\n",
    "from tensorflow.keras.preprocessing.image import ImageDataGenerator\n",
    "\n"
   ]
  },
  {
   "cell_type": "code",
   "execution_count": 93,
   "metadata": {
    "colab": {},
    "colab_type": "code",
    "id": "46tP5E_V8k11"
   },
   "outputs": [],
   "source": [
    "test_dir=\"D:\\cats$dog-classification\\CNN classification\\dataset\\\\test_set\"\n",
    "train_dir=\"D:\\cats$dog-classification\\CNN classification\\dataset\\\\training_set\"\n",
    "\n",
    "\n",
    "train_dir_cats = train_dir + '\\cats'\n",
    "train_dir_dogs = train_dir + '\\dogs'\n",
    "test_dir_cats = test_dir + '\\cats'\n",
    "test_dir_dogs = test_dir + '\\dogs'"
   ]
  },
  {
   "cell_type": "code",
   "execution_count": 94,
   "metadata": {
    "colab": {
     "base_uri": "https://localhost:8080/",
     "height": 84
    },
    "colab_type": "code",
    "id": "3v6NGds_Aewc",
    "outputId": "8926f997-ad1b-4d57-d651-b245236bd211"
   },
   "outputs": [
    {
     "name": "stdout",
     "output_type": "stream",
     "text": [
      "number of cats training images -  4000\n",
      "number of dogs training images -  4000\n",
      "number of cats testing images -  1000\n",
      "number of dogs testing images -  1000\n"
     ]
    }
   ],
   "source": [
    "print('number of cats training images - ',len(os.listdir(train_dir_cats)))\n",
    "print('number of dogs training images - ',len(os.listdir(train_dir_dogs)))\n",
    "print('number of cats testing images - ',len(os.listdir(test_dir_cats)))\n",
    "print('number of dogs testing images - ',len(os.listdir(test_dir_dogs)))"
   ]
  },
  {
   "cell_type": "code",
   "execution_count": 103,
   "metadata": {
    "colab": {
     "base_uri": "https://localhost:8080/",
     "height": 50
    },
    "colab_type": "code",
    "id": "dt0XpINHA7vJ",
    "outputId": "cbd54f33-22d4-4047-b752-605accfa0ba0"
   },
   "outputs": [
    {
     "name": "stdout",
     "output_type": "stream",
     "text": [
      "Found 8000 images belonging to 2 classes.\n",
      "Found 2000 images belonging to 2 classes.\n"
     ]
    }
   ],
   "source": [
    "train_datagen = ImageDataGenerator(\n",
    "        rescale = 1./255,\n",
    "        zoom_range = 0.2,\n",
    "        )\n",
    "\n",
    "test_datagen = ImageDataGenerator(rescale=1./255)\n",
    "\n",
    "training_set = train_datagen.flow_from_directory(\n",
    "         directory='D:\\cats$dog-classification\\CNN classification\\dataset\\\\training_set',\n",
    "        target_size=(64, 64),\n",
    "        batch_size=32,\n",
    "        shuffle=True,\n",
    "        class_mode='binary')\n",
    "\n",
    "\n",
    "test_set = test_datagen.flow_from_directory(\n",
    "         directory='D:\\cats$dog-classification\\CNN classification\\dataset\\\\test_set',\n",
    "        target_size=(64, 64),\n",
    "        batch_size=32,\n",
    "        shuffle=True,\n",
    "        class_mode='binary') "
   ]
  },
  {
   "cell_type": "code",
   "execution_count": 97,
   "metadata": {
    "colab": {},
    "colab_type": "code",
    "id": "ZUgO31UkYPUx"
   },
   "outputs": [],
   "source": [
    "model = tf.keras.Sequential([\n",
    "        tf.keras.layers.Conv2D(32,3,input_shape=(64,64,3),padding='same',activation='relu'),\n",
    "        tf.keras.layers.Conv2D(32,3,padding='same',activation='relu'),\n",
    "        tf.keras.layers.MaxPooling2D(pool_size=(2,2)),\n",
    "        \n",
    "\n",
    "        tf.keras.layers.Conv2D(64,3,padding='same',activation='relu'),\n",
    "        tf.keras.layers.Conv2D(64,3,padding='same',activation='relu'),\n",
    "        tf.keras.layers.MaxPooling2D(pool_size=(2,2)),\n",
    "        tf.keras.layers.Dropout(rate=0.5),\n",
    "\n",
    "        tf.keras.layers.Conv2D(128,3,padding='same',activation='relu'),\n",
    "        tf.keras.layers.Conv2D(128,3,padding='same',activation='relu'),\n",
    "        tf.keras.layers.MaxPooling2D(pool_size=(2,2)),\n",
    "        tf.keras.layers.Dropout(rate=0.5),\n",
    "\n",
    "        tf.keras.layers.Flatten(),\n",
    "\n",
    "        tf.keras.layers.Dense(64, activation='relu'),\n",
    "        tf.keras.layers.Dropout(rate=0.5),\n",
    "\n",
    "        tf.keras.layers.Dense(32, activation='relu'),\n",
    "        tf.keras.layers.Dropout(rate=0.5),\n",
    "\n",
    "        tf.keras.layers.Dense(1, activation='sigmoid')\n",
    "])"
   ]
  },
  {
   "cell_type": "code",
   "execution_count": null,
   "metadata": {
    "colab": {},
    "colab_type": "code",
    "id": "SKg4l9fL41Ht"
   },
   "outputs": [],
   "source": []
  },
  {
   "cell_type": "code",
   "execution_count": 99,
   "metadata": {
    "colab": {},
    "colab_type": "code",
    "id": "kLjyzLzmBlIV"
   },
   "outputs": [],
   "source": [
    "\n",
    "\n",
    "model.compile(optimizer=tf.keras.optimizers.RMSprop(lr=0.0001), loss = 'binary_crossentropy', metrics = ['accuracy'])"
   ]
  },
  {
   "cell_type": "code",
   "execution_count": 100,
   "metadata": {
    "colab": {
     "base_uri": "https://localhost:8080/",
     "height": 588
    },
    "colab_type": "code",
    "id": "X9wQgkJ2CzMX",
    "outputId": "69b9bf33-bb4a-4ad5-c833-d86911723da6"
   },
   "outputs": [
    {
     "name": "stdout",
     "output_type": "stream",
     "text": [
      "Model: \"sequential_2\"\n",
      "_________________________________________________________________\n",
      "Layer (type)                 Output Shape              Param #   \n",
      "=================================================================\n",
      "conv2d_6 (Conv2D)            (None, 64, 64, 32)        896       \n",
      "_________________________________________________________________\n",
      "conv2d_7 (Conv2D)            (None, 64, 64, 32)        9248      \n",
      "_________________________________________________________________\n",
      "max_pooling2d_6 (MaxPooling2 (None, 32, 32, 32)        0         \n",
      "_________________________________________________________________\n",
      "conv2d_8 (Conv2D)            (None, 32, 32, 64)        18496     \n",
      "_________________________________________________________________\n",
      "conv2d_9 (Conv2D)            (None, 32, 32, 64)        36928     \n",
      "_________________________________________________________________\n",
      "max_pooling2d_7 (MaxPooling2 (None, 16, 16, 64)        0         \n",
      "_________________________________________________________________\n",
      "dropout_6 (Dropout)          (None, 16, 16, 64)        0         \n",
      "_________________________________________________________________\n",
      "conv2d_10 (Conv2D)           (None, 16, 16, 128)       73856     \n",
      "_________________________________________________________________\n",
      "conv2d_11 (Conv2D)           (None, 16, 16, 128)       147584    \n",
      "_________________________________________________________________\n",
      "max_pooling2d_8 (MaxPooling2 (None, 8, 8, 128)         0         \n",
      "_________________________________________________________________\n",
      "dropout_7 (Dropout)          (None, 8, 8, 128)         0         \n",
      "_________________________________________________________________\n",
      "flatten_2 (Flatten)          (None, 8192)              0         \n",
      "_________________________________________________________________\n",
      "dense_6 (Dense)              (None, 64)                524352    \n",
      "_________________________________________________________________\n",
      "dropout_8 (Dropout)          (None, 64)                0         \n",
      "_________________________________________________________________\n",
      "dense_7 (Dense)              (None, 32)                2080      \n",
      "_________________________________________________________________\n",
      "dropout_9 (Dropout)          (None, 32)                0         \n",
      "_________________________________________________________________\n",
      "dense_8 (Dense)              (None, 1)                 33        \n",
      "=================================================================\n",
      "Total params: 813,473\n",
      "Trainable params: 813,473\n",
      "Non-trainable params: 0\n",
      "_________________________________________________________________\n"
     ]
    }
   ],
   "source": [
    "model.summary()"
   ]
  },
  {
   "cell_type": "code",
   "execution_count": 105,
   "metadata": {
    "colab": {
     "base_uri": "https://localhost:8080/",
     "height": 726
    },
    "colab_type": "code",
    "id": "wUaWxFybCpqG",
    "outputId": "d424bbfd-efa8-4d10-b4f4-d8d3efe6a94d"
   },
   "outputs": [
    {
     "name": "stdout",
     "output_type": "stream",
     "text": [
      "WARNING:tensorflow:sample_weight modes were coerced from\n",
      "  ...\n",
      "    to  \n",
      "  ['...']\n",
      "WARNING:tensorflow:sample_weight modes were coerced from\n",
      "  ...\n",
      "    to  \n",
      "  ['...']\n",
      "Train for 250 steps, validate for 62 steps\n",
      "Epoch 1/60\n",
      "250/250 [==============================] - 340s 1s/step - loss: 0.6941 - accuracy: 0.4974 - val_loss: 0.6928 - val_accuracy: 0.5010\n",
      "Epoch 2/60\n",
      "250/250 [==============================] - 92s 369ms/step - loss: 0.6910 - accuracy: 0.5226 - val_loss: 0.6840 - val_accuracy: 0.5378\n",
      "Epoch 3/60\n",
      "250/250 [==============================] - 93s 373ms/step - loss: 0.6781 - accuracy: 0.5699 - val_loss: 0.6587 - val_accuracy: 0.6119\n",
      "Epoch 4/60\n",
      "250/250 [==============================] - 62s 250ms/step - loss: 0.6668 - accuracy: 0.5978 - val_loss: 0.6659 - val_accuracy: 0.5600\n",
      "Epoch 5/60\n",
      "250/250 [==============================] - 59s 236ms/step - loss: 0.6514 - accuracy: 0.6181 - val_loss: 0.6323 - val_accuracy: 0.6280\n",
      "Epoch 6/60\n",
      "250/250 [==============================] - 59s 235ms/step - loss: 0.6412 - accuracy: 0.6313 - val_loss: 0.6242 - val_accuracy: 0.6361\n",
      "Epoch 7/60\n",
      "250/250 [==============================] - 59s 234ms/step - loss: 0.6256 - accuracy: 0.6530 - val_loss: 0.5930 - val_accuracy: 0.6784\n",
      "Epoch 8/60\n",
      "250/250 [==============================] - 59s 236ms/step - loss: 0.6150 - accuracy: 0.6651 - val_loss: 0.6048 - val_accuracy: 0.6522\n",
      "Epoch 9/60\n",
      "250/250 [==============================] - 59s 237ms/step - loss: 0.5995 - accuracy: 0.6850 - val_loss: 0.6586 - val_accuracy: 0.5912\n",
      "Epoch 10/60\n",
      "250/250 [==============================] - 60s 239ms/step - loss: 0.5864 - accuracy: 0.6999 - val_loss: 0.5624 - val_accuracy: 0.6956\n",
      "Epoch 11/60\n",
      "250/250 [==============================] - 60s 241ms/step - loss: 0.5758 - accuracy: 0.7086 - val_loss: 0.5620 - val_accuracy: 0.7011\n",
      "Epoch 12/60\n",
      "250/250 [==============================] - 61s 244ms/step - loss: 0.5606 - accuracy: 0.7239 - val_loss: 0.5147 - val_accuracy: 0.7500\n",
      "Epoch 13/60\n",
      "250/250 [==============================] - 60s 240ms/step - loss: 0.5475 - accuracy: 0.7361 - val_loss: 0.5314 - val_accuracy: 0.7349\n",
      "Epoch 14/60\n",
      "250/250 [==============================] - 59s 238ms/step - loss: 0.5431 - accuracy: 0.7384 - val_loss: 0.5560 - val_accuracy: 0.7167\n",
      "Epoch 15/60\n",
      "250/250 [==============================] - 59s 237ms/step - loss: 0.5285 - accuracy: 0.7456 - val_loss: 0.5213 - val_accuracy: 0.7445\n",
      "Epoch 16/60\n",
      "250/250 [==============================] - 60s 239ms/step - loss: 0.5294 - accuracy: 0.7513 - val_loss: 0.5771 - val_accuracy: 0.7203\n",
      "Epoch 17/60\n",
      "250/250 [==============================] - 60s 238ms/step - loss: 0.5236 - accuracy: 0.7577 - val_loss: 0.4747 - val_accuracy: 0.7828\n",
      "Epoch 18/60\n",
      "250/250 [==============================] - 60s 239ms/step - loss: 0.5135 - accuracy: 0.7621 - val_loss: 0.4824 - val_accuracy: 0.7676\n",
      "Epoch 19/60\n",
      "250/250 [==============================] - 60s 240ms/step - loss: 0.5108 - accuracy: 0.7663 - val_loss: 0.4729 - val_accuracy: 0.7707\n",
      "Epoch 20/60\n",
      "250/250 [==============================] - 60s 241ms/step - loss: 0.5015 - accuracy: 0.7706 - val_loss: 0.4819 - val_accuracy: 0.7676\n",
      "Epoch 21/60\n",
      "250/250 [==============================] - 60s 240ms/step - loss: 0.4956 - accuracy: 0.7776 - val_loss: 0.5175 - val_accuracy: 0.7621\n",
      "Epoch 22/60\n",
      "250/250 [==============================] - 59s 238ms/step - loss: 0.4912 - accuracy: 0.7824 - val_loss: 0.4841 - val_accuracy: 0.7671\n",
      "Epoch 23/60\n",
      "250/250 [==============================] - 59s 237ms/step - loss: 0.4830 - accuracy: 0.7801 - val_loss: 0.4717 - val_accuracy: 0.7666\n",
      "Epoch 24/60\n",
      "250/250 [==============================] - 61s 243ms/step - loss: 0.4752 - accuracy: 0.7834 - val_loss: 0.4769 - val_accuracy: 0.7717\n",
      "Epoch 25/60\n",
      "250/250 [==============================] - 60s 239ms/step - loss: 0.4656 - accuracy: 0.7889 - val_loss: 0.4405 - val_accuracy: 0.7893\n",
      "Epoch 26/60\n",
      "250/250 [==============================] - 60s 241ms/step - loss: 0.4651 - accuracy: 0.7887 - val_loss: 0.4639 - val_accuracy: 0.7692\n",
      "Epoch 27/60\n",
      "250/250 [==============================] - 60s 239ms/step - loss: 0.4638 - accuracy: 0.7919 - val_loss: 0.4022 - val_accuracy: 0.8155\n",
      "Epoch 28/60\n",
      "250/250 [==============================] - 60s 238ms/step - loss: 0.4543 - accuracy: 0.7946 - val_loss: 0.4449 - val_accuracy: 0.7812\n",
      "Epoch 29/60\n",
      "250/250 [==============================] - 60s 240ms/step - loss: 0.4428 - accuracy: 0.8021 - val_loss: 0.4508 - val_accuracy: 0.7772\n",
      "Epoch 30/60\n",
      "250/250 [==============================] - 60s 239ms/step - loss: 0.4327 - accuracy: 0.8087 - val_loss: 0.4176 - val_accuracy: 0.8145\n",
      "Epoch 31/60\n",
      "250/250 [==============================] - 60s 242ms/step - loss: 0.4286 - accuracy: 0.8133 - val_loss: 0.4304 - val_accuracy: 0.8024\n",
      "Epoch 32/60\n",
      "250/250 [==============================] - 60s 238ms/step - loss: 0.4300 - accuracy: 0.8104 - val_loss: 0.3841 - val_accuracy: 0.8276\n",
      "Epoch 33/60\n",
      "250/250 [==============================] - 59s 236ms/step - loss: 0.4239 - accuracy: 0.8217 - val_loss: 0.3856 - val_accuracy: 0.8296\n",
      "Epoch 34/60\n",
      "250/250 [==============================] - 59s 236ms/step - loss: 0.4235 - accuracy: 0.8150 - val_loss: 0.3953 - val_accuracy: 0.8140\n",
      "Epoch 35/60\n",
      "250/250 [==============================] - 61s 243ms/step - loss: 0.4133 - accuracy: 0.8255 - val_loss: 0.3970 - val_accuracy: 0.8438\n",
      "Epoch 36/60\n",
      "250/250 [==============================] - 60s 241ms/step - loss: 0.4132 - accuracy: 0.8266 - val_loss: 0.4074 - val_accuracy: 0.8271\n",
      "Epoch 37/60\n",
      "250/250 [==============================] - 60s 239ms/step - loss: 0.4059 - accuracy: 0.8309 - val_loss: 0.4165 - val_accuracy: 0.8175\n",
      "Epoch 38/60\n",
      "250/250 [==============================] - 60s 239ms/step - loss: 0.3986 - accuracy: 0.8316 - val_loss: 0.3882 - val_accuracy: 0.8216\n",
      "Epoch 39/60\n",
      "250/250 [==============================] - 59s 238ms/step - loss: 0.4037 - accuracy: 0.8303 - val_loss: 0.4191 - val_accuracy: 0.7918\n",
      "Epoch 40/60\n",
      "250/250 [==============================] - 60s 239ms/step - loss: 0.3969 - accuracy: 0.8366 - val_loss: 0.3775 - val_accuracy: 0.8468\n",
      "Epoch 41/60\n",
      "250/250 [==============================] - 60s 240ms/step - loss: 0.3942 - accuracy: 0.8391 - val_loss: 0.3731 - val_accuracy: 0.8468\n",
      "Epoch 42/60\n",
      "250/250 [==============================] - 59s 237ms/step - loss: 0.3887 - accuracy: 0.8370 - val_loss: 0.3709 - val_accuracy: 0.8357\n",
      "Epoch 43/60\n",
      "250/250 [==============================] - 60s 240ms/step - loss: 0.3813 - accuracy: 0.8366 - val_loss: 0.3769 - val_accuracy: 0.8392\n",
      "Epoch 44/60\n",
      "250/250 [==============================] - 59s 237ms/step - loss: 0.3802 - accuracy: 0.8419 - val_loss: 0.3550 - val_accuracy: 0.8473\n",
      "Epoch 45/60\n",
      "250/250 [==============================] - 60s 238ms/step - loss: 0.3700 - accuracy: 0.8432 - val_loss: 0.3702 - val_accuracy: 0.8543\n",
      "Epoch 46/60\n",
      "250/250 [==============================] - 60s 239ms/step - loss: 0.3640 - accuracy: 0.8505 - val_loss: 0.4872 - val_accuracy: 0.7707\n",
      "Epoch 47/60\n",
      "250/250 [==============================] - 59s 237ms/step - loss: 0.3778 - accuracy: 0.8404 - val_loss: 0.3571 - val_accuracy: 0.8438\n",
      "Epoch 48/60\n",
      "250/250 [==============================] - 59s 237ms/step - loss: 0.3636 - accuracy: 0.8501 - val_loss: 0.3754 - val_accuracy: 0.8493\n",
      "Epoch 49/60\n",
      "250/250 [==============================] - 61s 242ms/step - loss: 0.3504 - accuracy: 0.8541 - val_loss: 0.3491 - val_accuracy: 0.8503\n",
      "Epoch 50/60\n",
      "250/250 [==============================] - 61s 243ms/step - loss: 0.3647 - accuracy: 0.8482 - val_loss: 0.3624 - val_accuracy: 0.8382\n",
      "Epoch 51/60\n",
      "250/250 [==============================] - 59s 237ms/step - loss: 0.3575 - accuracy: 0.8500 - val_loss: 0.4343 - val_accuracy: 0.8226\n",
      "Epoch 52/60\n",
      "250/250 [==============================] - 59s 236ms/step - loss: 0.3600 - accuracy: 0.8536 - val_loss: 0.3578 - val_accuracy: 0.8543\n",
      "Epoch 53/60\n",
      "250/250 [==============================] - 60s 239ms/step - loss: 0.3475 - accuracy: 0.8596 - val_loss: 0.5942 - val_accuracy: 0.7732\n",
      "Epoch 54/60\n",
      "250/250 [==============================] - 60s 239ms/step - loss: 0.3518 - accuracy: 0.8547 - val_loss: 0.3851 - val_accuracy: 0.8327\n",
      "Epoch 55/60\n",
      "250/250 [==============================] - 60s 240ms/step - loss: 0.3487 - accuracy: 0.8597 - val_loss: 0.6495 - val_accuracy: 0.7258\n"
     ]
    },
    {
     "name": "stdout",
     "output_type": "stream",
     "text": [
      "Epoch 56/60\n",
      "250/250 [==============================] - 60s 238ms/step - loss: 0.3493 - accuracy: 0.8581 - val_loss: 0.3315 - val_accuracy: 0.8639\n",
      "Epoch 57/60\n",
      "250/250 [==============================] - 59s 238ms/step - loss: 0.3472 - accuracy: 0.8611 - val_loss: 0.3572 - val_accuracy: 0.8483\n",
      "Epoch 58/60\n",
      "250/250 [==============================] - 59s 236ms/step - loss: 0.3436 - accuracy: 0.8618 - val_loss: 0.3493 - val_accuracy: 0.8634\n",
      "Epoch 59/60\n",
      "250/250 [==============================] - 59s 237ms/step - loss: 0.3430 - accuracy: 0.8577 - val_loss: 0.3384 - val_accuracy: 0.8584\n",
      "Epoch 60/60\n",
      "250/250 [==============================] - 60s 241ms/step - loss: 0.3432 - accuracy: 0.8599 - val_loss: 0.3799 - val_accuracy: 0.8286\n"
     ]
    }
   ],
   "source": [
    "Trained_model=model.fit_generator(training_set,\n",
    "                        steps_per_epoch = len(training_set.filenames) // 32,\n",
    "                        epochs =60,\n",
    "                        validation_data =test_set,\n",
    "                        validation_steps =len(test_set.filenames) //32\n",
    "                                 )\n",
    "\n",
    "model.save(\"modelcats&dogs.h5\")"
   ]
  },
  {
   "cell_type": "code",
   "execution_count": 106,
   "metadata": {
    "colab": {
     "base_uri": "https://localhost:8080/",
     "height": 34
    },
    "colab_type": "code",
    "id": "U3ah6v6hhfD_",
    "outputId": "8386b79c-0955-4f5a-d999-9806bb9531b4"
   },
   "outputs": [
    {
     "data": {
      "text/plain": [
       "dict_keys(['loss', 'accuracy', 'val_loss', 'val_accuracy'])"
      ]
     },
     "execution_count": 106,
     "metadata": {},
     "output_type": "execute_result"
    }
   ],
   "source": [
    "Trained_model.history.keys()"
   ]
  },
  {
   "cell_type": "code",
   "execution_count": 107,
   "metadata": {
    "colab": {
     "base_uri": "https://localhost:8080/",
     "height": 295
    },
    "colab_type": "code",
    "id": "SUIIOxvGDpxI",
    "outputId": "3ee28e4b-74fa-48d8-c33f-b9bfb928d33f"
   },
   "outputs": [
    {
     "data": {
      "image/png": "[encoded data removed]",
      "text/plain": [
       "<Figure size 432x288 with 1 Axes>"
      ]
     },
     "metadata": {
      "needs_background": "light"
     },
     "output_type": "display_data"
    }
   ],
   "source": [
    "plt.plot(Trained_model.history['accuracy'])\n",
    "plt.plot(Trained_model.history['val_accuracy'])\n",
    "plt.title('model accuracy')\n",
    "plt.ylabel('Training accuracy')\n",
    "plt.xlabel('Validation accuracy')\n",
    "plt.legend(['train', 'val'], loc='upper left')\n",
    "plt.show()"
   ]
  },
  {
   "cell_type": "code",
   "execution_count": 108,
   "metadata": {
    "colab": {
     "base_uri": "https://localhost:8080/",
     "height": 295
    },
    "colab_type": "code",
    "id": "mOrXNlODuqHU",
    "outputId": "c55cc2ee-80f8-455b-e142-1289a7e0cae5"
   },
   "outputs": [
    {
     "data": {
      "image/png": "[encoded data removed]",
      "text/plain": [
       "<Figure size 432x288 with 1 Axes>"
      ]
     },
     "metadata": {
      "needs_background": "light"
     },
     "output_type": "display_data"
    }
   ],
   "source": [
    "plt.plot(Trained_model.history['loss'])\n",
    "plt.plot(Trained_model.history['val_loss'])\n",
    "plt.title('model loss')\n",
    "plt.ylabel('Training loss')\n",
    "plt.xlabel('Validation loss')\n",
    "plt.legend(['train', 'val'], loc='upper left')\n",
    "plt.show()"
   ]
  },
  {
   "cell_type": "code",
   "execution_count": 128,
   "metadata": {
    "colab": {},
    "colab_type": "code",
    "id": "-GlhSiEYEDxR"
   },
   "outputs": [],
   "source": [
    "def testing_image(image_directory):\n",
    "    test_image = image.load_img(image_directory, target_size = (64,64))\n",
    "    test_image = image.img_to_array(test_image)\n",
    "    test_image=test_image/255.\n",
    "    test_image = np.expand_dims(test_image, axis = 0)\n",
    "    result = model.predict(x = test_image)\n",
    "    print(result)\n",
    "    if result>0.5:\n",
    "        prediction = 'Dog'\n",
    "    else:\n",
    "        prediction = 'Cat'\n",
    "    return prediction"
   ]
  },
  {
   "cell_type": "code",
   "execution_count": 129,
   "metadata": {
    "colab": {
     "base_uri": "https://localhost:8080/",
     "height": 50
    },
    "colab_type": "code",
    "id": "_-EwNNrzE0B2",
    "outputId": "88fc2229-db03-4184-a531-33dea23ed8e8"
   },
   "outputs": [
    {
     "name": "stdout",
     "output_type": "stream",
     "text": [
      "[[0.27435803]]\n",
      "Cat\n"
     ]
    }
   ],
   "source": [
    "print(testing_image(test_dir + '/cats/cat.4004.jpg'))"
   ]
  },
  {
   "cell_type": "code",
   "execution_count": 130,
   "metadata": {
    "colab": {
     "base_uri": "https://localhost:8080/",
     "height": 50
    },
    "colab_type": "code",
    "id": "nLMBI0iYE8B1",
    "outputId": "f6449930-28ed-4bb0-d32c-c5a7cb14d354"
   },
   "outputs": [
    {
     "name": "stdout",
     "output_type": "stream",
     "text": [
      "[[0.8609574]]\n",
      "Dog\n"
     ]
    }
   ],
   "source": [
    "print(testing_image(test_dir + '/dogs/dog.4005.jpg'))"
   ]
  },
  {
   "cell_type": "code",
   "execution_count": null,
   "metadata": {},
   "outputs": [],
   "source": []
  }
 ],
 "metadata": {
  "accelerator": "GPU",
  "colab": {
   "collapsed_sections": [],
   "name": "cats&dogCNN_classification.ipynb",
   "provenance": []
  },
  "kernelspec": {
   "display_name": "Python 3",
   "language": "python",
   "name": "python3"
  },
  "language_info": {
   "codemirror_mode": {
    "name": "ipython",
    "version": 3
   },
   "file_extension": ".py",
   "mimetype": "text/x-python",
   "name": "python",
   "nbconvert_exporter": "python",
   "pygments_lexer": "ipython3",
   "version": "3.7.4"
  }
 },
 "nbformat": 4,
 "nbformat_minor": 1
}
